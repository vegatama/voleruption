{
 "cells": [
  {
   "cell_type": "markdown",
   "id": "5a7e122f",
   "metadata": {},
   "source": [
    "# Volcano Eruption\n",
    "## Kelompok 6\n",
    "* Deva Shofa Al Fathin (2000793)\n",
    "* Ellsya Nabella Nur'allifa (2009037)\n",
    "* Raihan Taufiqurrahman (2000385)\n",
    "* Vegatama Firdiady (200340)\n",
    "\n",
    "Data yang kami ambil berasal dari Smithsonian Institution dan diambil dari website dengan link tertera;\n",
    "\n",
    "https://www.kaggle.com/jessemostipak/volcano-eruptions"
   ]
  },
  {
   "cell_type": "code",
   "execution_count": 3,
   "id": "e3d83864",
   "metadata": {},
   "outputs": [],
   "source": [
    "%matplotlib inline\n",
    "import numpy as np\n",
    "import pandas as pd\n",
    "import matplotlib.pyplot as plt\n",
    "import seaborn as sns"
   ]
  },
  {
   "cell_type": "markdown",
   "id": "8a1a6114",
   "metadata": {},
   "source": [
    "## Load Dataset\n",
    "* Data Volcano (dv)\n",
    "* Data Eruption (de)"
   ]
  },
  {
   "cell_type": "code",
   "execution_count": 4,
   "id": "193e3d87",
   "metadata": {},
   "outputs": [],
   "source": [
    "dv = pd.read_csv(\"C:\\\\Users\\\\vegat\\\\Desktop\\\\volcano data\\\\volcano.csv\")\n",
    "de = pd.read_csv(\"C:\\\\Users\\\\vegat\\\\Desktop\\\\volcano data\\\\eruptions.csv\")"
   ]
  },
  {
   "cell_type": "markdown",
   "id": "aecb4706",
   "metadata": {},
   "source": [
    "## Eksplorasi Data Volcano"
   ]
  },
  {
   "cell_type": "code",
   "execution_count": 4,
   "id": "664e940d",
   "metadata": {},
   "outputs": [
    {
     "data": {
      "text/html": [
       "<div>\n",
       "<style scoped>\n",
       "    .dataframe tbody tr th:only-of-type {\n",
       "        vertical-align: middle;\n",
       "    }\n",
       "\n",
       "    .dataframe tbody tr th {\n",
       "        vertical-align: top;\n",
       "    }\n",
       "\n",
       "    .dataframe thead th {\n",
       "        text-align: right;\n",
       "    }\n",
       "</style>\n",
       "<table border=\"1\" class=\"dataframe\">\n",
       "  <thead>\n",
       "    <tr style=\"text-align: right;\">\n",
       "      <th></th>\n",
       "      <th>volcano_number</th>\n",
       "      <th>volcano_name</th>\n",
       "      <th>primary_volcano_type</th>\n",
       "      <th>last_eruption_year</th>\n",
       "      <th>country</th>\n",
       "      <th>region</th>\n",
       "      <th>subregion</th>\n",
       "      <th>latitude</th>\n",
       "      <th>longitude</th>\n",
       "      <th>elevation</th>\n",
       "      <th>...</th>\n",
       "      <th>major_rock_5</th>\n",
       "      <th>minor_rock_1</th>\n",
       "      <th>minor_rock_2</th>\n",
       "      <th>minor_rock_3</th>\n",
       "      <th>minor_rock_4</th>\n",
       "      <th>minor_rock_5</th>\n",
       "      <th>population_within_5_km</th>\n",
       "      <th>population_within_10_km</th>\n",
       "      <th>population_within_30_km</th>\n",
       "      <th>population_within_100_km</th>\n",
       "    </tr>\n",
       "  </thead>\n",
       "  <tbody>\n",
       "    <tr>\n",
       "      <th>953</th>\n",
       "      <td>300242</td>\n",
       "      <td>Zimina</td>\n",
       "      <td>Stratovolcano(es)</td>\n",
       "      <td>Unknown</td>\n",
       "      <td>Russia</td>\n",
       "      <td>Kamchatka and Mainland Asia</td>\n",
       "      <td>Kamchatka Peninsula</td>\n",
       "      <td>55.862</td>\n",
       "      <td>160.603</td>\n",
       "      <td>3057</td>\n",
       "      <td>...</td>\n",
       "      <td></td>\n",
       "      <td></td>\n",
       "      <td></td>\n",
       "      <td></td>\n",
       "      <td></td>\n",
       "      <td></td>\n",
       "      <td>0</td>\n",
       "      <td>0</td>\n",
       "      <td>77</td>\n",
       "      <td>11184</td>\n",
       "    </tr>\n",
       "    <tr>\n",
       "      <th>954</th>\n",
       "      <td>341061</td>\n",
       "      <td>Zitacuaro-Valle de Bravo</td>\n",
       "      <td>Caldera</td>\n",
       "      <td>-3050</td>\n",
       "      <td>Mexico</td>\n",
       "      <td>México and Central America</td>\n",
       "      <td>Mexico</td>\n",
       "      <td>19.400</td>\n",
       "      <td>-100.250</td>\n",
       "      <td>3500</td>\n",
       "      <td>...</td>\n",
       "      <td></td>\n",
       "      <td>Trachyandesite / Basaltic Trachyandesite</td>\n",
       "      <td>Trachybasalt / Tephrite Basanite</td>\n",
       "      <td></td>\n",
       "      <td></td>\n",
       "      <td></td>\n",
       "      <td>231977</td>\n",
       "      <td>231977</td>\n",
       "      <td>490440</td>\n",
       "      <td>4838069</td>\n",
       "    </tr>\n",
       "    <tr>\n",
       "      <th>955</th>\n",
       "      <td>221020</td>\n",
       "      <td>Zubair Group</td>\n",
       "      <td>Shield</td>\n",
       "      <td>2013</td>\n",
       "      <td>Yemen</td>\n",
       "      <td>Africa and Red Sea</td>\n",
       "      <td>Africa (northeastern) and Red Sea</td>\n",
       "      <td>15.050</td>\n",
       "      <td>42.180</td>\n",
       "      <td>191</td>\n",
       "      <td>...</td>\n",
       "      <td></td>\n",
       "      <td></td>\n",
       "      <td></td>\n",
       "      <td></td>\n",
       "      <td></td>\n",
       "      <td></td>\n",
       "      <td>7</td>\n",
       "      <td>7</td>\n",
       "      <td>7</td>\n",
       "      <td>671171</td>\n",
       "    </tr>\n",
       "    <tr>\n",
       "      <th>956</th>\n",
       "      <td>221021</td>\n",
       "      <td>Zukur</td>\n",
       "      <td>Shield</td>\n",
       "      <td>Unknown</td>\n",
       "      <td>Yemen</td>\n",
       "      <td>Africa and Red Sea</td>\n",
       "      <td>Africa (northeastern) and Red Sea</td>\n",
       "      <td>14.020</td>\n",
       "      <td>42.750</td>\n",
       "      <td>624</td>\n",
       "      <td>...</td>\n",
       "      <td></td>\n",
       "      <td></td>\n",
       "      <td></td>\n",
       "      <td></td>\n",
       "      <td></td>\n",
       "      <td></td>\n",
       "      <td>508</td>\n",
       "      <td>922</td>\n",
       "      <td>1075</td>\n",
       "      <td>1472800</td>\n",
       "    </tr>\n",
       "    <tr>\n",
       "      <th>957</th>\n",
       "      <td>327120</td>\n",
       "      <td>Zuni-Bandera</td>\n",
       "      <td>Volcanic field</td>\n",
       "      <td>-1170</td>\n",
       "      <td>United States</td>\n",
       "      <td>Canada and Western USA</td>\n",
       "      <td>USA (New Mexico)</td>\n",
       "      <td>34.800</td>\n",
       "      <td>-108.000</td>\n",
       "      <td>2550</td>\n",
       "      <td>...</td>\n",
       "      <td></td>\n",
       "      <td></td>\n",
       "      <td></td>\n",
       "      <td></td>\n",
       "      <td></td>\n",
       "      <td></td>\n",
       "      <td>18</td>\n",
       "      <td>18</td>\n",
       "      <td>246</td>\n",
       "      <td>54738</td>\n",
       "    </tr>\n",
       "  </tbody>\n",
       "</table>\n",
       "<p>5 rows × 26 columns</p>\n",
       "</div>"
      ],
      "text/plain": [
       "     volcano_number              volcano_name primary_volcano_type  \\\n",
       "953          300242                    Zimina    Stratovolcano(es)   \n",
       "954          341061  Zitacuaro-Valle de Bravo              Caldera   \n",
       "955          221020              Zubair Group               Shield   \n",
       "956          221021                     Zukur               Shield   \n",
       "957          327120              Zuni-Bandera       Volcanic field   \n",
       "\n",
       "    last_eruption_year        country                       region  \\\n",
       "953            Unknown         Russia  Kamchatka and Mainland Asia   \n",
       "954              -3050         Mexico   México and Central America   \n",
       "955               2013          Yemen           Africa and Red Sea   \n",
       "956            Unknown          Yemen           Africa and Red Sea   \n",
       "957              -1170  United States       Canada and Western USA   \n",
       "\n",
       "                             subregion  latitude  longitude  elevation  ...  \\\n",
       "953                Kamchatka Peninsula    55.862    160.603       3057  ...   \n",
       "954                             Mexico    19.400   -100.250       3500  ...   \n",
       "955  Africa (northeastern) and Red Sea    15.050     42.180        191  ...   \n",
       "956  Africa (northeastern) and Red Sea    14.020     42.750        624  ...   \n",
       "957                   USA (New Mexico)    34.800   -108.000       2550  ...   \n",
       "\n",
       "    major_rock_5                              minor_rock_1  \\\n",
       "953                                                          \n",
       "954               Trachyandesite / Basaltic Trachyandesite   \n",
       "955                                                          \n",
       "956                                                          \n",
       "957                                                          \n",
       "\n",
       "                         minor_rock_2 minor_rock_3 minor_rock_4 minor_rock_5  \\\n",
       "953                                                                            \n",
       "954  Trachybasalt / Tephrite Basanite                                          \n",
       "955                                                                            \n",
       "956                                                                            \n",
       "957                                                                            \n",
       "\n",
       "    population_within_5_km population_within_10_km population_within_30_km  \\\n",
       "953                      0                       0                      77   \n",
       "954                 231977                  231977                  490440   \n",
       "955                      7                       7                       7   \n",
       "956                    508                     922                    1075   \n",
       "957                     18                      18                     246   \n",
       "\n",
       "    population_within_100_km  \n",
       "953                    11184  \n",
       "954                  4838069  \n",
       "955                   671171  \n",
       "956                  1472800  \n",
       "957                    54738  \n",
       "\n",
       "[5 rows x 26 columns]"
      ]
     },
     "execution_count": 4,
     "metadata": {},
     "output_type": "execute_result"
    }
   ],
   "source": [
    "dv[-5:]"
   ]
  },
  {
   "cell_type": "code",
   "execution_count": 6,
   "id": "a9e2ea21",
   "metadata": {},
   "outputs": [
    {
     "name": "stdout",
     "output_type": "stream",
     "text": [
      "<class 'pandas.core.frame.DataFrame'>\n",
      "RangeIndex: 958 entries, 0 to 957\n",
      "Data columns (total 26 columns):\n",
      " #   Column                    Non-Null Count  Dtype  \n",
      "---  ------                    --------------  -----  \n",
      " 0   volcano_number            958 non-null    int64  \n",
      " 1   volcano_name              958 non-null    object \n",
      " 2   primary_volcano_type      958 non-null    object \n",
      " 3   last_eruption_year        958 non-null    object \n",
      " 4   country                   958 non-null    object \n",
      " 5   region                    958 non-null    object \n",
      " 6   subregion                 958 non-null    object \n",
      " 7   latitude                  958 non-null    float64\n",
      " 8   longitude                 958 non-null    float64\n",
      " 9   elevation                 958 non-null    int64  \n",
      " 10  tectonic_settings         958 non-null    object \n",
      " 11  evidence_category         958 non-null    object \n",
      " 12  major_rock_1              958 non-null    object \n",
      " 13  major_rock_2              958 non-null    object \n",
      " 14  major_rock_3              958 non-null    object \n",
      " 15  major_rock_4              958 non-null    object \n",
      " 16  major_rock_5              958 non-null    object \n",
      " 17  minor_rock_1              958 non-null    object \n",
      " 18  minor_rock_2              958 non-null    object \n",
      " 19  minor_rock_3              958 non-null    object \n",
      " 20  minor_rock_4              958 non-null    object \n",
      " 21  minor_rock_5              958 non-null    object \n",
      " 22  population_within_5_km    958 non-null    int64  \n",
      " 23  population_within_10_km   958 non-null    int64  \n",
      " 24  population_within_30_km   958 non-null    int64  \n",
      " 25  population_within_100_km  958 non-null    int64  \n",
      "dtypes: float64(2), int64(6), object(18)\n",
      "memory usage: 127.3+ KB\n"
     ]
    }
   ],
   "source": [
    "dv.info()"
   ]
  },
  {
   "cell_type": "markdown",
   "id": "06b0da4e",
   "metadata": {},
   "source": [
    "Dapat dilihat dari dv.info() ada 26 atribut dengan berbagai tipe, Total terdapat 958 baris data dan tidak Ada atribut dengan data null. "
   ]
  },
  {
   "cell_type": "markdown",
   "id": "7e10d407",
   "metadata": {},
   "source": [
    "### Drop data\n",
    "* setelah ditelusuri ada beberapa atribut yang cukup kompleks dan tidak dibutuhkan seperti major rock, minor rock, tectonic setting."
   ]
  },
  {
   "cell_type": "code",
   "execution_count": 5,
   "id": "f61b9fbb",
   "metadata": {},
   "outputs": [],
   "source": [
    "dv = dv.drop(['major_rock_1','major_rock_2','major_rock_3','major_rock_4','major_rock_5',\n",
    "              'minor_rock_1','minor_rock_2','minor_rock_3','minor_rock_4','minor_rock_5', \n",
    "              'tectonic_settings'],axis=1)"
   ]
  },
  {
   "cell_type": "code",
   "execution_count": 11,
   "id": "54de8c35",
   "metadata": {},
   "outputs": [
    {
     "data": {
      "text/plain": [
       "Unknown    301\n",
       "2020        46\n",
       "2019        14\n",
       "2018        12\n",
       "2008        10\n",
       "          ... \n",
       "838          1\n",
       "1991         1\n",
       "-9540        1\n",
       "1631         1\n",
       "1630         1\n",
       "Name: last_eruption_year, Length: 342, dtype: int64"
      ]
     },
     "execution_count": 11,
     "metadata": {},
     "output_type": "execute_result"
    }
   ],
   "source": [
    "dv.last_eruption_year.value_counts()"
   ]
  },
  {
   "cell_type": "markdown",
   "id": "2ba73da8",
   "metadata": {},
   "source": [
    "* setelah atribut last_eruption_year di cek terdapat banyak data yang tidak diketahui oleh karena itu atribut tersebut tidak relevan dan harus di drop."
   ]
  },
  {
   "cell_type": "code",
   "execution_count": 6,
   "id": "38558b58",
   "metadata": {},
   "outputs": [],
   "source": [
    "dv = dv.drop(['last_eruption_year'],axis=1)"
   ]
  },
  {
   "cell_type": "markdown",
   "id": "87c17c40",
   "metadata": {},
   "source": [
    "* Di dalam data terdapat 4 atribut yang menyatakan populasi berdasarkan jarak. setelah ditelusuri, Atribut 100 KM tidak dibutuhkan karena berada terlalu jauh dari gunung berapi."
   ]
  },
  {
   "cell_type": "code",
   "execution_count": 7,
   "id": "31a194ea",
   "metadata": {},
   "outputs": [],
   "source": [
    "dv = dv.drop(['population_within_100_km'],axis=1)"
   ]
  },
  {
   "cell_type": "markdown",
   "id": "0cb5e273",
   "metadata": {},
   "source": [
    "#### info data setelah di drop"
   ]
  },
  {
   "cell_type": "code",
   "execution_count": 9,
   "id": "4d5b87f3",
   "metadata": {},
   "outputs": [
    {
     "name": "stdout",
     "output_type": "stream",
     "text": [
      "<class 'pandas.core.frame.DataFrame'>\n",
      "RangeIndex: 958 entries, 0 to 957\n",
      "Data columns (total 13 columns):\n",
      " #   Column                   Non-Null Count  Dtype  \n",
      "---  ------                   --------------  -----  \n",
      " 0   volcano_number           958 non-null    int64  \n",
      " 1   volcano_name             958 non-null    object \n",
      " 2   primary_volcano_type     958 non-null    object \n",
      " 3   country                  958 non-null    object \n",
      " 4   region                   958 non-null    object \n",
      " 5   subregion                958 non-null    object \n",
      " 6   latitude                 958 non-null    float64\n",
      " 7   longitude                958 non-null    float64\n",
      " 8   elevation                958 non-null    int64  \n",
      " 9   evidence_category        958 non-null    object \n",
      " 10  population_within_5_km   958 non-null    int64  \n",
      " 11  population_within_10_km  958 non-null    int64  \n",
      " 12  population_within_30_km  958 non-null    int64  \n",
      "dtypes: float64(2), int64(5), object(6)\n",
      "memory usage: 74.9+ KB\n"
     ]
    }
   ],
   "source": [
    "dv.info()"
   ]
  },
  {
   "cell_type": "markdown",
   "id": "6253b569",
   "metadata": {},
   "source": [
    "setelah di drop jumlah atribut menjadi 12"
   ]
  },
  {
   "cell_type": "markdown",
   "id": "4bf48297",
   "metadata": {},
   "source": [
    "### Visualisasi Data"
   ]
  },
  {
   "cell_type": "markdown",
   "id": "07b5e876",
   "metadata": {},
   "source": [
    "#### Tabel Jumlah Gunung Berapi Per-Negara"
   ]
  },
  {
   "cell_type": "code",
   "execution_count": 23,
   "id": "48d21813",
   "metadata": {},
   "outputs": [
    {
     "data": {
      "text/plain": [
       "<AxesSubplot:xlabel='count', ylabel='country'>"
      ]
     },
     "execution_count": 23,
     "metadata": {},
     "output_type": "execute_result"
    },
    {
     "data": {
      "image/png": "[encoded data removed]",
      "text/plain": [
       "<Figure size 432x288 with 1 Axes>"
      ]
     },
     "metadata": {
      "needs_background": "light"
     },
     "output_type": "display_data"
    }
   ],
   "source": [
    "sns.countplot(y=\"country\", data=dv, order = dv.country.value_counts().iloc[:15].index)"
   ]
  },
  {
   "cell_type": "markdown",
   "id": "070c3883",
   "metadata": {},
   "source": [
    "* dari tabel di atas diketahui bahwa Amerika, indonesia, dan jepang memiliki banyak gunung berapi di atas 80 buah. sedangkan rusia dan chilie memiliki gunung berapi di atas 40 buah dan sisanya memiliki gunung berapi di bawah 40 buah."
   ]
  },
  {
   "cell_type": "markdown",
   "id": "d304c90c",
   "metadata": {},
   "source": [
    "#### Tabel Jumlah Populasi di Sekitar Gunung Berapi di Indonesia"
   ]
  },
  {
   "cell_type": "code",
   "execution_count": 15,
   "id": "21e5f190",
   "metadata": {},
   "outputs": [
    {
     "data": {
      "image/png": "[encoded data removed]",
      "text/plain": [
       "<Figure size 2160x360 with 1 Axes>"
      ]
     },
     "metadata": {
      "needs_background": "light"
     },
     "output_type": "display_data"
    }
   ],
   "source": [
    "popl = dv[(dv.country == \"Indonesia\")][[\"volcano_name\", \"population_within_5_km\", \"population_within_10_km\", \"population_within_30_km\"]]\n",
    "fig, ax = plt.subplots(figsize=(30, 5))\n",
    "popl.plot.bar(ax = ax, x = \"volcano_name\",stacked=True)\n",
    "plt.show()"
   ]
  },
  {
   "cell_type": "markdown",
   "id": "5b83f567",
   "metadata": {},
   "source": [
    "* Dari tabel di atas dapat disimpulkan bahwa beberapa gunung di Indonesia juga memiliki populasi yang cukup banyak di jarak yang cukup dekat.\n",
    "* di dieng terdapat cukup banyak populasi pada 5-10 km mungkin dikarenakan dieng termasuk area kawah yang cukup pasif dan termasuk area wisata.\n",
    "* di gunung tangkuban perahu memiliki populasi dalam 30 km yang paling banyak dan dalam 5-10 km yang sedang, bisa disimpulkan bahwa populasi yang banyak tersebut dikarenakan tangkuban perahu berada cukup dekat kota bandung dan daerah sekitarnya yang menjadi area wisata."
   ]
  },
  {
   "cell_type": "markdown",
   "id": "dc43f42c",
   "metadata": {},
   "source": [
    "#### Persebaran Lokasi Gunung Berapi di Indonesia "
   ]
  },
  {
   "cell_type": "code",
   "execution_count": 16,
   "id": "1a6cbbf2",
   "metadata": {},
   "outputs": [
    {
     "data": {
      "image/png": "[encoded data removed]",
      "text/plain": [
       "<Figure size 576x432 with 1 Axes>"
      ]
     },
     "metadata": {
      "needs_background": "light"
     },
     "output_type": "display_data"
    }
   ],
   "source": [
    "ind = dv[(dv.country == \"Indonesia\")]\n",
    "fig, ax = plt.subplots(figsize=(8,6))\n",
    "ind.plot(x=\"longitude\", y=\"latitude\", kind=\"scatter\", ax = ax)\n",
    "plt.show()"
   ]
  },
  {
   "cell_type": "markdown",
   "id": "eb0a18bc",
   "metadata": {},
   "source": [
    "* Dari scatterplot di atas dapat dilihat bahwa perseberan gunung banyak terkumpul di titik 108 sampai 115 atau pulau jawa."
   ]
  },
  {
   "cell_type": "markdown",
   "id": "2aca2c27",
   "metadata": {},
   "source": [
    "## Eksplorasi Data Eruption"
   ]
  },
  {
   "cell_type": "code",
   "execution_count": 49,
   "id": "389be204",
   "metadata": {},
   "outputs": [
    {
     "data": {
      "text/html": [
       "<div>\n",
       "<style scoped>\n",
       "    .dataframe tbody tr th:only-of-type {\n",
       "        vertical-align: middle;\n",
       "    }\n",
       "\n",
       "    .dataframe tbody tr th {\n",
       "        vertical-align: top;\n",
       "    }\n",
       "\n",
       "    .dataframe thead th {\n",
       "        text-align: right;\n",
       "    }\n",
       "</style>\n",
       "<table border=\"1\" class=\"dataframe\">\n",
       "  <thead>\n",
       "    <tr style=\"text-align: right;\">\n",
       "      <th></th>\n",
       "      <th>volcano_number</th>\n",
       "      <th>volcano_name</th>\n",
       "      <th>eruption_number</th>\n",
       "      <th>eruption_category</th>\n",
       "      <th>area_of_activity</th>\n",
       "      <th>vei</th>\n",
       "      <th>start_year</th>\n",
       "      <th>start_month</th>\n",
       "      <th>start_day</th>\n",
       "      <th>evidence_method_dating</th>\n",
       "      <th>end_year</th>\n",
       "      <th>end_month</th>\n",
       "      <th>end_day</th>\n",
       "      <th>latitude</th>\n",
       "      <th>longitude</th>\n",
       "    </tr>\n",
       "  </thead>\n",
       "  <tbody>\n",
       "    <tr>\n",
       "      <th>11173</th>\n",
       "      <td>324020</td>\n",
       "      <td>Craters of the Moon</td>\n",
       "      <td>21101</td>\n",
       "      <td>Confirmed Eruption</td>\n",
       "      <td>Sunset cone</td>\n",
       "      <td>0.0</td>\n",
       "      <td>-10060.0</td>\n",
       "      <td>NaN</td>\n",
       "      <td>NaN</td>\n",
       "      <td>Radiocarbon (uncorrected)</td>\n",
       "      <td>NaN</td>\n",
       "      <td>NaN</td>\n",
       "      <td>NaN</td>\n",
       "      <td>43.420</td>\n",
       "      <td>-113.500</td>\n",
       "    </tr>\n",
       "    <tr>\n",
       "      <th>11174</th>\n",
       "      <td>222161</td>\n",
       "      <td>Igwisi Hills</td>\n",
       "      <td>22141</td>\n",
       "      <td>Confirmed Eruption</td>\n",
       "      <td>NE Volcano</td>\n",
       "      <td>1.0</td>\n",
       "      <td>-10450.0</td>\n",
       "      <td>NaN</td>\n",
       "      <td>NaN</td>\n",
       "      <td>Surface Exposure</td>\n",
       "      <td>NaN</td>\n",
       "      <td>NaN</td>\n",
       "      <td>NaN</td>\n",
       "      <td>-4.889</td>\n",
       "      <td>31.933</td>\n",
       "    </tr>\n",
       "    <tr>\n",
       "      <th>11175</th>\n",
       "      <td>357121</td>\n",
       "      <td>Quetrupillan</td>\n",
       "      <td>22351</td>\n",
       "      <td>Confirmed Eruption</td>\n",
       "      <td>NaN</td>\n",
       "      <td>3.0</td>\n",
       "      <td>-10658.0</td>\n",
       "      <td>NaN</td>\n",
       "      <td>NaN</td>\n",
       "      <td>Radiocarbon (corrected)</td>\n",
       "      <td>NaN</td>\n",
       "      <td>NaN</td>\n",
       "      <td>NaN</td>\n",
       "      <td>-39.496</td>\n",
       "      <td>-71.722</td>\n",
       "    </tr>\n",
       "    <tr>\n",
       "      <th>11176</th>\n",
       "      <td>357121</td>\n",
       "      <td>Quetrupillan</td>\n",
       "      <td>22352</td>\n",
       "      <td>Confirmed Eruption</td>\n",
       "      <td>NaN</td>\n",
       "      <td>3.0</td>\n",
       "      <td>-11345.0</td>\n",
       "      <td>NaN</td>\n",
       "      <td>NaN</td>\n",
       "      <td>Radiocarbon (corrected)</td>\n",
       "      <td>NaN</td>\n",
       "      <td>NaN</td>\n",
       "      <td>NaN</td>\n",
       "      <td>-39.496</td>\n",
       "      <td>-71.722</td>\n",
       "    </tr>\n",
       "    <tr>\n",
       "      <th>11177</th>\n",
       "      <td>390090</td>\n",
       "      <td>Saunders</td>\n",
       "      <td>21099</td>\n",
       "      <td>Confirmed Eruption</td>\n",
       "      <td>NaN</td>\n",
       "      <td>0.0</td>\n",
       "      <td>NaN</td>\n",
       "      <td>NaN</td>\n",
       "      <td>NaN</td>\n",
       "      <td>NaN</td>\n",
       "      <td>NaN</td>\n",
       "      <td>NaN</td>\n",
       "      <td>NaN</td>\n",
       "      <td>-57.800</td>\n",
       "      <td>-26.483</td>\n",
       "    </tr>\n",
       "  </tbody>\n",
       "</table>\n",
       "</div>"
      ],
      "text/plain": [
       "       volcano_number         volcano_name  eruption_number  \\\n",
       "11173          324020  Craters of the Moon            21101   \n",
       "11174          222161         Igwisi Hills            22141   \n",
       "11175          357121         Quetrupillan            22351   \n",
       "11176          357121         Quetrupillan            22352   \n",
       "11177          390090             Saunders            21099   \n",
       "\n",
       "        eruption_category area_of_activity  vei  start_year  start_month  \\\n",
       "11173  Confirmed Eruption      Sunset cone  0.0    -10060.0          NaN   \n",
       "11174  Confirmed Eruption       NE Volcano  1.0    -10450.0          NaN   \n",
       "11175  Confirmed Eruption              NaN  3.0    -10658.0          NaN   \n",
       "11176  Confirmed Eruption              NaN  3.0    -11345.0          NaN   \n",
       "11177  Confirmed Eruption              NaN  0.0         NaN          NaN   \n",
       "\n",
       "       start_day     evidence_method_dating  end_year  end_month  end_day  \\\n",
       "11173        NaN  Radiocarbon (uncorrected)       NaN        NaN      NaN   \n",
       "11174        NaN           Surface Exposure       NaN        NaN      NaN   \n",
       "11175        NaN    Radiocarbon (corrected)       NaN        NaN      NaN   \n",
       "11176        NaN    Radiocarbon (corrected)       NaN        NaN      NaN   \n",
       "11177        NaN                        NaN       NaN        NaN      NaN   \n",
       "\n",
       "       latitude  longitude  \n",
       "11173    43.420   -113.500  \n",
       "11174    -4.889     31.933  \n",
       "11175   -39.496    -71.722  \n",
       "11176   -39.496    -71.722  \n",
       "11177   -57.800    -26.483  "
      ]
     },
     "execution_count": 49,
     "metadata": {},
     "output_type": "execute_result"
    }
   ],
   "source": [
    "de[-5:]"
   ]
  },
  {
   "cell_type": "code",
   "execution_count": 50,
   "id": "c8baf0e1",
   "metadata": {},
   "outputs": [
    {
     "name": "stdout",
     "output_type": "stream",
     "text": [
      "<class 'pandas.core.frame.DataFrame'>\n",
      "RangeIndex: 11178 entries, 0 to 11177\n",
      "Data columns (total 15 columns):\n",
      " #   Column                  Non-Null Count  Dtype  \n",
      "---  ------                  --------------  -----  \n",
      " 0   volcano_number          11178 non-null  int64  \n",
      " 1   volcano_name            11178 non-null  object \n",
      " 2   eruption_number         11178 non-null  int64  \n",
      " 3   eruption_category       11178 non-null  object \n",
      " 4   area_of_activity        4694 non-null   object \n",
      " 5   vei                     8272 non-null   float64\n",
      " 6   start_year              11177 non-null  float64\n",
      " 7   start_month             10985 non-null  float64\n",
      " 8   start_day               10982 non-null  float64\n",
      " 9   evidence_method_dating  9898 non-null   object \n",
      " 10  end_year                4332 non-null   float64\n",
      " 11  end_month               4329 non-null   float64\n",
      " 12  end_day                 4326 non-null   float64\n",
      " 13  latitude                11178 non-null  float64\n",
      " 14  longitude               11178 non-null  float64\n",
      "dtypes: float64(9), int64(2), object(4)\n",
      "memory usage: 1.1+ MB\n"
     ]
    }
   ],
   "source": [
    "de.info()"
   ]
  },
  {
   "cell_type": "markdown",
   "id": "0db551b4",
   "metadata": {},
   "source": [
    "Dapat dilihat dari de.info() ada 15 atribut dengan berbagai tipe, Total terdapat 11178 baris data dan Ada beberapa atribut dengan data null. "
   ]
  },
  {
   "cell_type": "markdown",
   "id": "dfd38b88",
   "metadata": {},
   "source": [
    "### Drop dan Normalisasi Data"
   ]
  },
  {
   "cell_type": "markdown",
   "id": "5b1074e9",
   "metadata": {},
   "source": [
    "* setelah ditelusuri ada beberapa atribut tidak dibutuhkan seperti 'start_month','start_day','end_year','end_month','end_day' karena sudah dapat diwakilkan oleh start_year dan cukup banyak data tersebut null."
   ]
  },
  {
   "cell_type": "code",
   "execution_count": 12,
   "id": "0ec6807c",
   "metadata": {},
   "outputs": [],
   "source": [
    "de = de.drop(['start_month','start_day','end_year','end_month','end_day'],axis=1)"
   ]
  },
  {
   "cell_type": "markdown",
   "id": "d78094b8",
   "metadata": {},
   "source": [
    "* setelah ditelusuri ada beberapa atribut yang tidak dibutuhkan yaitu yang menyatakan kordinat seperti latitude dan longitude."
   ]
  },
  {
   "cell_type": "code",
   "execution_count": 13,
   "id": "e74f1b5a",
   "metadata": {},
   "outputs": [],
   "source": [
    "de = de.drop(['latitude','longitude'],axis=1)"
   ]
  },
  {
   "cell_type": "markdown",
   "id": "40b7b2d0",
   "metadata": {},
   "source": [
    "##### cek data area_of_activity.value"
   ]
  },
  {
   "cell_type": "code",
   "execution_count": 54,
   "id": "05d4dfa0",
   "metadata": {},
   "outputs": [
    {
     "data": {
      "text/plain": [
       "Naka-dake                                   172\n",
       "Bromo                                        63\n",
       "Ngauruhoe                                    52\n",
       "Mihara-yama                                  47\n",
       "Ohachi                                       45\n",
       "                                           ... \n",
       "South flank (2100-1950 m, M. Calcarazzi)      1\n",
       "West flank (Pico Joao Fernandes)              1\n",
       "NW rift zone (Los Hornitos)                   1\n",
       "Fugen-dake (Kazaana)                          1\n",
       "Norfolk Island Ridge                          1\n",
       "Name: area_of_activity, Length: 2592, dtype: int64"
      ]
     },
     "execution_count": 54,
     "metadata": {},
     "output_type": "execute_result"
    }
   ],
   "source": [
    "de.area_of_activity.value_counts()"
   ]
  },
  {
   "cell_type": "markdown",
   "id": "9457895c",
   "metadata": {},
   "source": [
    "* Dari data atribut tersebut hanya 2000-an data dari 11000-an data yang terisi, oleh karena itu data tersebut tidak valid dan perlu di drop."
   ]
  },
  {
   "cell_type": "code",
   "execution_count": 14,
   "id": "b535cfd8",
   "metadata": {},
   "outputs": [],
   "source": [
    "de = de.drop(['area_of_activity'],axis=1)"
   ]
  },
  {
   "cell_type": "code",
   "execution_count": 17,
   "id": "217f6dc5",
   "metadata": {},
   "outputs": [
    {
     "data": {
      "text/plain": [
       "volcano_number               0\n",
       "volcano_name                 0\n",
       "eruption_number              0\n",
       "eruption_category            0\n",
       "vei                       2906\n",
       "start_year                   1\n",
       "evidence_method_dating    1280\n",
       "dtype: int64"
      ]
     },
     "execution_count": 17,
     "metadata": {},
     "output_type": "execute_result"
    }
   ],
   "source": [
    "de.isnull().sum()"
   ]
  },
  {
   "cell_type": "markdown",
   "id": "e402f9e4",
   "metadata": {},
   "source": [
    "* Terlihat bahwa atribut vei atau volcanic eruption index memiliki cukup bayak atribit yang null maka dikakukan pengisian data yang null mejadi 0.0"
   ]
  },
  {
   "cell_type": "code",
   "execution_count": 19,
   "id": "46409343",
   "metadata": {},
   "outputs": [],
   "source": [
    "de.vei.fillna(de.vei.mode()[0.0], inplace=True)"
   ]
  },
  {
   "cell_type": "markdown",
   "id": "73a9df77",
   "metadata": {},
   "source": [
    "#### info data setelah di drop"
   ]
  },
  {
   "cell_type": "code",
   "execution_count": 20,
   "id": "329f39b9",
   "metadata": {},
   "outputs": [
    {
     "name": "stdout",
     "output_type": "stream",
     "text": [
      "<class 'pandas.core.frame.DataFrame'>\n",
      "RangeIndex: 11178 entries, 0 to 11177\n",
      "Data columns (total 7 columns):\n",
      " #   Column                  Non-Null Count  Dtype  \n",
      "---  ------                  --------------  -----  \n",
      " 0   volcano_number          11178 non-null  int64  \n",
      " 1   volcano_name            11178 non-null  object \n",
      " 2   eruption_number         11178 non-null  int64  \n",
      " 3   eruption_category       11178 non-null  object \n",
      " 4   vei                     11178 non-null  float64\n",
      " 5   start_year              11177 non-null  float64\n",
      " 6   evidence_method_dating  9898 non-null   object \n",
      "dtypes: float64(2), int64(2), object(3)\n",
      "memory usage: 480.4+ KB\n"
     ]
    }
   ],
   "source": [
    "de.info()"
   ]
  },
  {
   "cell_type": "markdown",
   "id": "8f2814a0",
   "metadata": {},
   "source": [
    "Setelah di drop jumlah atribut menjadi 7 dan hanya ada sedikit atribut yang null."
   ]
  },
  {
   "cell_type": "markdown",
   "id": "fc4af9ed",
   "metadata": {},
   "source": [
    "### Visualisasi Data"
   ]
  },
  {
   "cell_type": "markdown",
   "id": "ed01464b",
   "metadata": {},
   "source": [
    "#### Tabel jumlah erupsi yang terjadi sesuai kategori"
   ]
  },
  {
   "cell_type": "code",
   "execution_count": 58,
   "id": "998d7c15",
   "metadata": {},
   "outputs": [
    {
     "data": {
      "text/plain": [
       "<AxesSubplot:xlabel='eruption_category', ylabel='count'>"
      ]
     },
     "execution_count": 58,
     "metadata": {},
     "output_type": "execute_result"
    },
    {
     "data": {
      "image/png": "[encoded data removed]",
      "text/plain": [
       "<Figure size 432x288 with 1 Axes>"
      ]
     },
     "metadata": {
      "needs_background": "light"
     },
     "output_type": "display_data"
    }
   ],
   "source": [
    "sns.countplot(x=\"eruption_category\", data=de)"
   ]
  },
  {
   "cell_type": "markdown",
   "id": "dfc80f57",
   "metadata": {},
   "source": [
    "* Dari tabel di atas dapat disimpulkan bahwa data erupsi yang terkonfirmasi jumlahnya lebih banyak daripada erupsi yang belum terkonfirmasi dan masih diragukan."
   ]
  },
  {
   "cell_type": "markdown",
   "id": "7d6b7dd0",
   "metadata": {},
   "source": [
    "#### Hubungan atribut evidence_method_dating dengan eruption_category"
   ]
  },
  {
   "cell_type": "code",
   "execution_count": 73,
   "id": "6979c41d",
   "metadata": {},
   "outputs": [
    {
     "data": {
      "text/plain": [
       "<AxesSubplot:xlabel='evidence_method_dating', ylabel='count'>"
      ]
     },
     "execution_count": 73,
     "metadata": {},
     "output_type": "execute_result"
    },
    {
     "data": {
      "image/png": "[encoded data removed]",
      "text/plain": [
       "<Figure size 2160x360 with 1 Axes>"
      ]
     },
     "metadata": {
      "needs_background": "light"
     },
     "output_type": "display_data"
    }
   ],
   "source": [
    "fig, ax = plt.subplots(figsize=(30, 5)) #atur ukuran chart\n",
    "sns.countplot(x=\"evidence_method_dating\", hue = \"eruption_category\",data=de)"
   ]
  },
  {
   "cell_type": "markdown",
   "id": "4b19e3f0",
   "metadata": {},
   "source": [
    "* Dari countplot di atas dapat disimpulkan bahwa erupsi yang terkonfirmasi banyak menggunakan metude historical Observation."
   ]
  },
  {
   "cell_type": "markdown",
   "id": "34fe3a41",
   "metadata": {},
   "source": [
    "#### Tabel data boxplot tahun erupsi"
   ]
  },
  {
   "cell_type": "code",
   "execution_count": 67,
   "id": "6a129108",
   "metadata": {},
   "outputs": [
    {
     "data": {
      "text/plain": [
       "<AxesSubplot:xlabel='start_year'>"
      ]
     },
     "execution_count": 67,
     "metadata": {},
     "output_type": "execute_result"
    },
    {
     "data": {
      "image/png": "[encoded data removed]",
      "text/plain": [
       "<Figure size 432x288 with 1 Axes>"
      ]
     },
     "metadata": {
      "needs_background": "light"
     },
     "output_type": "display_data"
    }
   ],
   "source": [
    "sns.boxplot(x=\"start_year\",data=de)"
   ]
  },
  {
   "cell_type": "markdown",
   "id": "bc75062f",
   "metadata": {},
   "source": [
    "* Dari tabel di atas dapat disimpulkan bahwa ada banyak data yang berada di outerlayer boxplot, hal itu perlu dioptimalisasi agar data valid."
   ]
  },
  {
   "cell_type": "markdown",
   "id": "1914c07b",
   "metadata": {},
   "source": [
    "### Merge Data"
   ]
  },
  {
   "cell_type": "markdown",
   "id": "ccb1d550",
   "metadata": {},
   "source": [
    "#### membuat tabel untuk menentukan vei maksimal dan jumlah erupsi"
   ]
  },
  {
   "cell_type": "code",
   "execution_count": 54,
   "id": "cc7d3567",
   "metadata": {},
   "outputs": [
    {
     "data": {
      "text/html": [
       "<div>\n",
       "<style scoped>\n",
       "    .dataframe tbody tr th:only-of-type {\n",
       "        vertical-align: middle;\n",
       "    }\n",
       "\n",
       "    .dataframe tbody tr th {\n",
       "        vertical-align: top;\n",
       "    }\n",
       "\n",
       "    .dataframe thead th {\n",
       "        text-align: right;\n",
       "    }\n",
       "</style>\n",
       "<table border=\"1\" class=\"dataframe\">\n",
       "  <thead>\n",
       "    <tr style=\"text-align: right;\">\n",
       "      <th></th>\n",
       "      <th></th>\n",
       "      <th>jumlah_erupsi</th>\n",
       "      <th>vei</th>\n",
       "    </tr>\n",
       "    <tr>\n",
       "      <th>volcano_number</th>\n",
       "      <th>volcano_name</th>\n",
       "      <th></th>\n",
       "      <th></th>\n",
       "    </tr>\n",
       "  </thead>\n",
       "  <tbody>\n",
       "    <tr>\n",
       "      <th>390100</th>\n",
       "      <th>Candlemas Island</th>\n",
       "      <td>4</td>\n",
       "      <td>2.0</td>\n",
       "    </tr>\n",
       "    <tr>\n",
       "      <th>390110</th>\n",
       "      <th>Hodson</th>\n",
       "      <td>2</td>\n",
       "      <td>2.0</td>\n",
       "    </tr>\n",
       "    <tr>\n",
       "      <th>390130</th>\n",
       "      <th>Zavodovski</th>\n",
       "      <td>5</td>\n",
       "      <td>2.0</td>\n",
       "    </tr>\n",
       "    <tr>\n",
       "      <th>390140</th>\n",
       "      <th>Protector Seamounts</th>\n",
       "      <td>1</td>\n",
       "      <td>0.0</td>\n",
       "    </tr>\n",
       "    <tr>\n",
       "      <th>600000</th>\n",
       "      <th>Unknown Source</th>\n",
       "      <td>77</td>\n",
       "      <td>6.0</td>\n",
       "    </tr>\n",
       "  </tbody>\n",
       "</table>\n",
       "</div>"
      ],
      "text/plain": [
       "                                    jumlah_erupsi  vei\n",
       "volcano_number volcano_name                           \n",
       "390100         Candlemas Island                 4  2.0\n",
       "390110         Hodson                           2  2.0\n",
       "390130         Zavodovski                       5  2.0\n",
       "390140         Protector Seamounts              1  0.0\n",
       "600000         Unknown Source                  77  6.0"
      ]
     },
     "execution_count": 54,
     "metadata": {},
     "output_type": "execute_result"
    }
   ],
   "source": [
    "maxvei = de.groupby([\"volcano_number\", \"volcano_name\"])[\"vei\"].max()\n",
    "jum_er = de.groupby([\"volcano_number\", \"volcano_name\"])[[\"eruption_number\"]].count().rename(columns={\"eruption_number\":\"jumlah_erupsi\"})\n",
    "\n",
    "de_agg = pd.merge(jum_er, maxvei, how='left',on=[\"volcano_number\", \"volcano_name\"])\n",
    "de_agg[-5:]"
   ]
  },
  {
   "cell_type": "markdown",
   "id": "09bfa63c",
   "metadata": {},
   "source": [
    "#### Merge tabel ind dengan tabel de_agg"
   ]
  },
  {
   "cell_type": "code",
   "execution_count": 55,
   "id": "0146ee24",
   "metadata": {},
   "outputs": [
    {
     "data": {
      "text/html": [
       "<div>\n",
       "<style scoped>\n",
       "    .dataframe tbody tr th:only-of-type {\n",
       "        vertical-align: middle;\n",
       "    }\n",
       "\n",
       "    .dataframe tbody tr th {\n",
       "        vertical-align: top;\n",
       "    }\n",
       "\n",
       "    .dataframe thead th {\n",
       "        text-align: right;\n",
       "    }\n",
       "</style>\n",
       "<table border=\"1\" class=\"dataframe\">\n",
       "  <thead>\n",
       "    <tr style=\"text-align: right;\">\n",
       "      <th></th>\n",
       "      <th>volcano_number</th>\n",
       "      <th>volcano_name</th>\n",
       "      <th>primary_volcano_type</th>\n",
       "      <th>country</th>\n",
       "      <th>region</th>\n",
       "      <th>subregion</th>\n",
       "      <th>latitude</th>\n",
       "      <th>longitude</th>\n",
       "      <th>elevation</th>\n",
       "      <th>evidence_category</th>\n",
       "      <th>population_within_5_km</th>\n",
       "      <th>population_within_10_km</th>\n",
       "      <th>population_within_30_km</th>\n",
       "      <th>jumlah_erupsi</th>\n",
       "      <th>vei</th>\n",
       "    </tr>\n",
       "  </thead>\n",
       "  <tbody>\n",
       "    <tr>\n",
       "      <th>0</th>\n",
       "      <td>264020</td>\n",
       "      <td>Agung</td>\n",
       "      <td>Stratovolcano</td>\n",
       "      <td>Indonesia</td>\n",
       "      <td>Indonesia</td>\n",
       "      <td>Lesser Sunda Islands</td>\n",
       "      <td>-8.343</td>\n",
       "      <td>115.508</td>\n",
       "      <td>2997</td>\n",
       "      <td>Eruption Observed</td>\n",
       "      <td>5657</td>\n",
       "      <td>76781</td>\n",
       "      <td>968381</td>\n",
       "      <td>5.0</td>\n",
       "      <td>5.0</td>\n",
       "    </tr>\n",
       "    <tr>\n",
       "      <th>1</th>\n",
       "      <td>268072</td>\n",
       "      <td>Amasing</td>\n",
       "      <td>Stratovolcano(es)</td>\n",
       "      <td>Indonesia</td>\n",
       "      <td>Indonesia</td>\n",
       "      <td>Halmahera</td>\n",
       "      <td>-0.530</td>\n",
       "      <td>127.480</td>\n",
       "      <td>1030</td>\n",
       "      <td>Evidence Credible</td>\n",
       "      <td>59</td>\n",
       "      <td>803</td>\n",
       "      <td>26015</td>\n",
       "      <td>NaN</td>\n",
       "      <td>NaN</td>\n",
       "    </tr>\n",
       "    <tr>\n",
       "      <th>2</th>\n",
       "      <td>266020</td>\n",
       "      <td>Ambang</td>\n",
       "      <td>Complex</td>\n",
       "      <td>Indonesia</td>\n",
       "      <td>Indonesia</td>\n",
       "      <td>Sulawesi</td>\n",
       "      <td>0.750</td>\n",
       "      <td>124.420</td>\n",
       "      <td>1795</td>\n",
       "      <td>Eruption Observed</td>\n",
       "      <td>9155</td>\n",
       "      <td>46469</td>\n",
       "      <td>319137</td>\n",
       "      <td>2.0</td>\n",
       "      <td>2.0</td>\n",
       "    </tr>\n",
       "    <tr>\n",
       "      <th>3</th>\n",
       "      <td>263290</td>\n",
       "      <td>Arjuno-Welirang</td>\n",
       "      <td>Stratovolcano</td>\n",
       "      <td>Indonesia</td>\n",
       "      <td>Indonesia</td>\n",
       "      <td>Java</td>\n",
       "      <td>-7.733</td>\n",
       "      <td>112.575</td>\n",
       "      <td>3339</td>\n",
       "      <td>Eruption Observed</td>\n",
       "      <td>2584</td>\n",
       "      <td>53983</td>\n",
       "      <td>4143137</td>\n",
       "      <td>3.0</td>\n",
       "      <td>2.0</td>\n",
       "    </tr>\n",
       "    <tr>\n",
       "      <th>4</th>\n",
       "      <td>265090</td>\n",
       "      <td>Banda Api</td>\n",
       "      <td>Caldera</td>\n",
       "      <td>Indonesia</td>\n",
       "      <td>Indonesia</td>\n",
       "      <td>Banda Sea</td>\n",
       "      <td>-4.523</td>\n",
       "      <td>129.881</td>\n",
       "      <td>596</td>\n",
       "      <td>Eruption Observed</td>\n",
       "      <td>5682</td>\n",
       "      <td>5682</td>\n",
       "      <td>5810</td>\n",
       "      <td>27.0</td>\n",
       "      <td>3.0</td>\n",
       "    </tr>\n",
       "  </tbody>\n",
       "</table>\n",
       "</div>"
      ],
      "text/plain": [
       "   volcano_number     volcano_name primary_volcano_type    country     region  \\\n",
       "0          264020            Agung        Stratovolcano  Indonesia  Indonesia   \n",
       "1          268072          Amasing    Stratovolcano(es)  Indonesia  Indonesia   \n",
       "2          266020           Ambang              Complex  Indonesia  Indonesia   \n",
       "3          263290  Arjuno-Welirang        Stratovolcano  Indonesia  Indonesia   \n",
       "4          265090        Banda Api              Caldera  Indonesia  Indonesia   \n",
       "\n",
       "              subregion  latitude  longitude  elevation  evidence_category  \\\n",
       "0  Lesser Sunda Islands    -8.343    115.508       2997  Eruption Observed   \n",
       "1             Halmahera    -0.530    127.480       1030  Evidence Credible   \n",
       "2              Sulawesi     0.750    124.420       1795  Eruption Observed   \n",
       "3                  Java    -7.733    112.575       3339  Eruption Observed   \n",
       "4             Banda Sea    -4.523    129.881        596  Eruption Observed   \n",
       "\n",
       "   population_within_5_km  population_within_10_km  population_within_30_km  \\\n",
       "0                    5657                    76781                   968381   \n",
       "1                      59                      803                    26015   \n",
       "2                    9155                    46469                   319137   \n",
       "3                    2584                    53983                  4143137   \n",
       "4                    5682                     5682                     5810   \n",
       "\n",
       "   jumlah_erupsi  vei  \n",
       "0            5.0  5.0  \n",
       "1            NaN  NaN  \n",
       "2            2.0  2.0  \n",
       "3            3.0  2.0  \n",
       "4           27.0  3.0  "
      ]
     },
     "execution_count": 55,
     "metadata": {},
     "output_type": "execute_result"
    }
   ],
   "source": [
    "join = pd.merge(ind, de_agg, how='left',on=[\"volcano_number\", \"volcano_name\"])\n",
    "join[:5]"
   ]
  },
  {
   "cell_type": "code",
   "execution_count": 34,
   "id": "687121ab",
   "metadata": {},
   "outputs": [
    {
     "name": "stdout",
     "output_type": "stream",
     "text": [
      "<class 'pandas.core.frame.DataFrame'>\n",
      "Int64Index: 95 entries, 0 to 94\n",
      "Data columns (total 15 columns):\n",
      " #   Column                   Non-Null Count  Dtype  \n",
      "---  ------                   --------------  -----  \n",
      " 0   volcano_number           95 non-null     int64  \n",
      " 1   volcano_name             95 non-null     object \n",
      " 2   primary_volcano_type     95 non-null     object \n",
      " 3   country                  95 non-null     object \n",
      " 4   region                   95 non-null     object \n",
      " 5   subregion                95 non-null     object \n",
      " 6   latitude                 95 non-null     float64\n",
      " 7   longitude                95 non-null     float64\n",
      " 8   elevation                95 non-null     int64  \n",
      " 9   evidence_category        95 non-null     object \n",
      " 10  population_within_5_km   95 non-null     int64  \n",
      " 11  population_within_10_km  95 non-null     int64  \n",
      " 12  population_within_30_km  95 non-null     int64  \n",
      " 13  jumlah_erupsi            69 non-null     float64\n",
      " 14  vei                      69 non-null     float64\n",
      "dtypes: float64(4), int64(5), object(6)\n",
      "memory usage: 9.6+ KB\n"
     ]
    }
   ],
   "source": [
    "join.info()"
   ]
  },
  {
   "cell_type": "markdown",
   "id": "6735c665",
   "metadata": {},
   "source": [
    "Dapat dilihat dari join.info() ada 15 atribut dengan berbagai tipe, Total terdapat 95 baris data dan hanya ada 2 atribut dengan data null. "
   ]
  },
  {
   "cell_type": "markdown",
   "id": "222c983f",
   "metadata": {},
   "source": [
    "### Visualisasi Data"
   ]
  },
  {
   "cell_type": "markdown",
   "id": "9267480b",
   "metadata": {},
   "source": [
    "#### Mencari hubungan atribut dengan heatmap "
   ]
  },
  {
   "cell_type": "code",
   "execution_count": 65,
   "id": "d59a55ff",
   "metadata": {},
   "outputs": [
    {
     "data": {
      "image/png": "[encoded data removed]",
      "text/plain": [
       "<Figure size 432x288 with 2 Axes>"
      ]
     },
     "metadata": {
      "needs_background": "light"
     },
     "output_type": "display_data"
    }
   ],
   "source": [
    "corr = join[[\"jumlah_erupsi\",\"vei\",\"population_within_10_km\"]].corr()\n",
    "ax = sns.heatmap(corr)"
   ]
  },
  {
   "cell_type": "markdown",
   "id": "c9f0fead",
   "metadata": {},
   "source": [
    "* Dari heatmap di atas dapat dilihat bahwa korelasi paling tinggi adalah antara vei dengan jumlah erupsi di 0.4 sedangkan yang tidak memiliki korelasi adalah vei dengan populasi."
   ]
  },
  {
   "cell_type": "markdown",
   "id": "fd81e505",
   "metadata": {},
   "source": [
    "#### Jumlah erupsi per-gunung di Indonesia dan hubungannya dengan vei"
   ]
  },
  {
   "cell_type": "code",
   "execution_count": 78,
   "id": "9bb725f0",
   "metadata": {},
   "outputs": [
    {
     "data": {
      "text/plain": [
       "<AxesSubplot:xlabel='jumlah_erupsi', ylabel='volcano_name'>"
      ]
     },
     "execution_count": 78,
     "metadata": {},
     "output_type": "execute_result"
    },
    {
     "data": {
      "image/png": "[encoded data removed]",
      "text/plain": [
       "<Figure size 360x1080 with 1 Axes>"
      ]
     },
     "metadata": {
      "needs_background": "light"
     },
     "output_type": "display_data"
    }
   ],
   "source": [
    "plot_order = join.groupby(\"volcano_name\")[\"jumlah_erupsi\"].sum().sort_values(ascending=False).index.values\n",
    "fig, ax = plt.subplots(figsize=(5, 15))\n",
    "sns.barplot(ax=ax, x=\"jumlah_erupsi\",y=\"volcano_name\", hue = \"vei\", data = join, order = plot_order[:30])"
   ]
  },
  {
   "cell_type": "markdown",
   "id": "04c7b983",
   "metadata": {},
   "source": [
    "* Dapat dilihat dari barplot di atas bahwa merapi merupakan gunung yang memiliki jumlah erupsi tertinggi di Indonesia dengan vei 4.0.\n",
    "* dari data didapat angka vei tertinggi terdapat pada gunung rinjani."
   ]
  }
 ],
 "metadata": {
  "kernelspec": {
   "display_name": "Python 3",
   "language": "python",
   "name": "python3"
  },
  "language_info": {
   "codemirror_mode": {
    "name": "ipython",
    "version": 3
   },
   "file_extension": ".py",
   "mimetype": "text/x-python",
   "name": "python",
   "nbconvert_exporter": "python",
   "pygments_lexer": "ipython3",
   "version": "3.8.8"
  }
 },
 "nbformat": 4,
 "nbformat_minor": 5
}
